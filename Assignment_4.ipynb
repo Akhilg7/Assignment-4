{
  "nbformat": 4,
  "nbformat_minor": 0,
  "metadata": {
    "colab": {
      "name": "Assignment 4.ipynb",
      "provenance": []
    },
    "kernelspec": {
      "name": "python3",
      "display_name": "Python 3"
    },
    "language_info": {
      "name": "python"
    }
  },
  "cells": [
    {
      "cell_type": "markdown",
      "metadata": {
        "id": "PMLTq_6RHhVt"
      },
      "source": [
        "1.1 Write a Python Program(with class concepts) to find the area of the triangle using the below  formula. \n",
        "area = (s*(s-a)*(s-b)*(s-c)) ** 0.5 \n",
        "Function to take the length of the sides of triangle from user should be defined in the parent  class and function to calculate the area should be defined in subclass. \n"
      ]
    },
    {
      "cell_type": "code",
      "metadata": {
        "colab": {
          "base_uri": "https://localhost:8080/"
        },
        "id": "FJffr2H8HYtr",
        "outputId": "52361c45-d4d9-45e3-971d-a31bfe0b5736"
      },
      "source": [
        "class triangle:\n",
        "  #initializing the values\n",
        "  def __init__(self):\n",
        "    self.a=int(input(\"Enter the length of a:\"))\n",
        "    self.b=int(input(\"Enter the length of b:\"))\n",
        "    self.c=int(input(\"Enter the length of c:\"))\n",
        "\n",
        "  def area(self):\n",
        "    s=(self.a+self.b+self.c)/2\n",
        "    l=s*(s-self.a)*(s-self.b)*(s-self.c)*0.5\n",
        "    return l\n",
        "\n",
        "\n",
        "t=triangle()\n",
        "print(\"the area of a triangle:\",t.area())\n"
      ],
      "execution_count": 17,
      "outputs": [
        {
          "output_type": "stream",
          "text": [
            "Enter the length of a:10\n",
            "Enter the length of b:12\n",
            "Enter the length of c:14\n",
            "the area of a triangle: 1728.0\n"
          ],
          "name": "stdout"
        }
      ]
    },
    {
      "cell_type": "markdown",
      "metadata": {
        "id": "NVc16XvpKey8"
      },
      "source": [
        "1.2 Write a function filter_long_words() that takes a list of words and an integer n and returns  the list of words that are longer than n. \n"
      ]
    },
    {
      "cell_type": "code",
      "metadata": {
        "colab": {
          "base_uri": "https://localhost:8080/"
        },
        "id": "-gwo6erhKjbC",
        "outputId": "f179fe7b-e3d8-491d-f484-a313f17454a0"
      },
      "source": [
        "def filter_long_words(s,n):\n",
        "  #empty list to append words if it is greater than n\n",
        "  l=[]\n",
        "  for i in s:\n",
        "    #if length of word is greater than n append the word\n",
        "    if len(i)>n:\n",
        "      l.append(i)\n",
        "  return l\n",
        "\n",
        "#giving list of words and n=3\n",
        "l=['cat','dog','lion','elephant','tiger']\n",
        "#calling the function by passing l and integer n\n",
        "l=filter_long_words(l,3)\n",
        "print(l)"
      ],
      "execution_count": 1,
      "outputs": [
        {
          "output_type": "stream",
          "text": [
            "['lion', 'elephant', 'tiger']\n"
          ],
          "name": "stdout"
        }
      ]
    },
    {
      "cell_type": "markdown",
      "metadata": {
        "id": "njYDkugOLrx4"
      },
      "source": [
        "2.1 Write a Python program using function concept that maps list of words into a list of integers  representing the lengths of the corresponding words. "
      ]
    },
    {
      "cell_type": "code",
      "metadata": {
        "colab": {
          "base_uri": "https://localhost:8080/"
        },
        "id": "V5V8GuifLqwp",
        "outputId": "5a7196b4-08f2-4bfc-ff19-4b09f3e36341"
      },
      "source": [
        "def map(s):\n",
        "  #empty list to store the length of words\n",
        "  l=[]\n",
        "  #loop to iterate in s\n",
        "  for i in s:\n",
        "    #appends the length of words in list l\n",
        "    l.append(len(i))\n",
        "  return l\n",
        "\n",
        "#giving the input\n",
        "a=['ab','cde','erty']\n",
        "#calling the function and storing the result in b\n",
        "b=map(a)\n",
        "#printing the values in b\n",
        "print(b)"
      ],
      "execution_count": 2,
      "outputs": [
        {
          "output_type": "stream",
          "text": [
            "[2, 3, 4]\n"
          ],
          "name": "stdout"
        }
      ]
    },
    {
      "cell_type": "markdown",
      "metadata": {
        "id": "bJW9ipuqMnWK"
      },
      "source": [
        "2.2 Write a Python function which takes a character (i.e. a string of length 1) and returns True if  it is a vowel, False otherwise. "
      ]
    },
    {
      "cell_type": "code",
      "metadata": {
        "colab": {
          "base_uri": "https://localhost:8080/"
        },
        "id": "cpLWFbpVMr-l",
        "outputId": "5829da70-d664-4377-d202-16c8be3a941e"
      },
      "source": [
        "def check(s):\n",
        "  #if length of character is greater than one return\n",
        "  if len(s)>1:\n",
        "    print('enter only one character')\n",
        "    return\n",
        "  #if no input is provided then return \n",
        "  elif len(s)==0:\n",
        "    print(\"no input is provided\")\n",
        "    return\n",
        "  #vowels are initialized in a list\n",
        "  vowels={'a','e','i','o','u'}\n",
        "  #converting the input into lowercase\n",
        "  s=s.lower()\n",
        "  #checks weather input is vowel or not\n",
        "  if s in vowels:\n",
        "    #if input is vowel then returns true\n",
        "    return True\n",
        "  #if input is not a vowel then return's false\n",
        "  return False\n",
        "\n",
        "l=input(\"Enter only one character:\")\n",
        "s=check(l)\n",
        "print(s)\n"
      ],
      "execution_count": 8,
      "outputs": [
        {
          "output_type": "stream",
          "text": [
            "Enter only one character:A\n",
            "True\n"
          ],
          "name": "stdout"
        }
      ]
    }
  ]
}